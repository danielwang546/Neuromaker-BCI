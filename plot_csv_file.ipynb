{
 "cells": [
  {
   "cell_type": "markdown",
   "metadata": {},
   "source": [
    "<h4>Plot single bands from a CSV file</h4>"
   ]
  },
  {
   "cell_type": "code",
   "execution_count": 31,
   "metadata": {},
   "outputs": [],
   "source": [
    "import matplotlib.pyplot as plt\n",
    "import csv\n",
    "import numpy as np\n",
    "\n",
    "srcFile = \"data/active1.csv\"\n",
    "begin, end = 6, 61 # (begin is inclusive, end is exclusive)\n",
    "time = np.arange(begin, end, 1)\n",
    "band_to_plot = \"Attention\""
   ]
  },
  {
   "cell_type": "code",
   "execution_count": 21,
   "metadata": {},
   "outputs": [],
   "source": [
    "data = {\n",
    "    \"Raw EEG\": [],\n",
    "    \"Alpha\": [],\n",
    "    \"Delta\": [],\n",
    "    \"Gamma\": [],\n",
    "    \"Low Beta\": [],\n",
    "    \"High Beta\": [],\n",
    "    \"Theta\": [],\n",
    "    \"Attention\": [],\n",
    "    \"Meditation\": []\n",
    "}\n",
    "\n",
    "with open(srcFile) as csvFile:\n",
    "    reader = csv.reader(csvFile)\n",
    "    header = next(reader)\n",
    "    for row in reader:\n",
    "        data[\"Raw EEG\"].append(float(row[0]))\n",
    "        data[\"Alpha\"].append(float(row[1]))\n",
    "        data[\"Delta\"].append(float(row[2]))\n",
    "        data[\"Gamma\"].append(float(row[3]))\n",
    "        data[\"Low Beta\"].append(float(row[4]))\n",
    "        data[\"High Beta\"].append(float(row[5]))\n",
    "        data[\"Theta\"].append(float(row[6]))\n",
    "        data[\"Attention\"].append(float(row[7]))\n",
    "        data[\"Meditation\"].append(float(row[8]))\n",
    "\n",
    "for key in data:\n",
    "    data[key] = data[key][begin:end]"
   ]
  },
  {
   "cell_type": "code",
   "execution_count": 22,
   "metadata": {},
   "outputs": [],
   "source": [
    "def plot_data(key):\n",
    "    plt.title(srcFile + \" \" + key)\n",
    "    plt.plot(time, data[key])\n",
    "    plt.show()\n",
    "    plt.clf()"
   ]
  },
  {
   "cell_type": "code",
   "execution_count": 33,
   "metadata": {},
   "outputs": [
    {
     "data": {
      "image/png": "[encoded data removed]",
      "text/plain": [
       "<Figure size 432x288 with 1 Axes>"
      ]
     },
     "metadata": {
      "needs_background": "light"
     },
     "output_type": "display_data"
    },
    {
     "data": {
      "text/plain": [
       "<Figure size 432x288 with 0 Axes>"
      ]
     },
     "metadata": {},
     "output_type": "display_data"
    }
   ],
   "source": [
    "plot_data(band_to_plot)"
   ]
  }
 ],
 "metadata": {
  "interpreter": {
   "hash": "082e9a3bcad0a290d0001e938aa60b99250c6c2ef33a923c00b70f9826caf4b7"
  },
  "kernelspec": {
   "display_name": "",
   "language": "python",
   "name": "python3"
  },
  "language_info": {
   "codemirror_mode": {
    "name": "ipython",
    "version": 3
   },
   "file_extension": ".py",
   "mimetype": "text/x-python",
   "name": "python",
   "nbconvert_exporter": "python",
   "pygments_lexer": "ipython3",
   "version": "3.8.2"
  },
  "orig_nbformat": 4
 },
 "nbformat": 4,
 "nbformat_minor": 2
}
