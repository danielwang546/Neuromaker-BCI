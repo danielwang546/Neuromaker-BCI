{
 "cells": [
  {
   "cell_type": "code",
   "execution_count": 11,
   "metadata": {},
   "outputs": [],
   "source": [
    "import numpy as np\n",
    "import csv\n",
    "\n",
    "from sklearn.feature_selection import SelectFdr, chi2\n",
    "from sklearn.preprocessing import StandardScaler\n",
    "from sklearn.feature_selection import SelectKBest\n",
    "from sklearn.feature_selection import VarianceThreshold\n",
    "import antropy as ant\n",
    "import math"
   ]
  },
  {
   "cell_type": "code",
   "execution_count": 2,
   "metadata": {},
   "outputs": [],
   "source": [
    "begin, end = 6, 61 # (begin is inclusive, end is exclusive)\n",
    "count_samples = {\n",
    "    \"active\": 16,\n",
    "    \"meditate\": 15,\n",
    "    \"neutral\": 15\n",
    "}"
   ]
  },
  {
   "cell_type": "code",
   "execution_count": 3,
   "metadata": {},
   "outputs": [],
   "source": [
    "class Sample:\n",
    "    def __init__(self):\n",
    "        self.data = {\n",
    "            'RawEEG': [],\n",
    "            'Alpha': [],\n",
    "            'Low Beta': [],\n",
    "            'High Beta': [],\n",
    "            'Gamma': [],\n",
    "            'Theta': [],\n",
    "            'Delta': [],\n",
    "            'Meditation': [],\n",
    "            'Attention': []\n",
    "        }\n",
    "\n",
    "    def recordDataPoint(self, RawEEG, Attention, Meditation, Alpha, Delta, Theta, LowBeta, HighBeta, Gamma):\n",
    "        self.data['RawEEG'].append(float(RawEEG))\n",
    "        self.data['Attention'].append(float(Attention))\n",
    "        self.data['Meditation'].append(float(Meditation))\n",
    "        self.data['Alpha'].append(float(Alpha))\n",
    "        self.data['Delta'].append(float(Delta))\n",
    "        self.data['Theta'].append(float(Theta))\n",
    "        self.data['Low Beta'].append(float(LowBeta))\n",
    "        self.data['High Beta'].append(float(HighBeta))\n",
    "        self.data['Gamma'].append(float(Gamma))\n",
    "\n",
    "    '''\n",
    "    Record a line of data from the CSV output, which takes form RawEEG, Alpha, Delta, Gamma, Low Beta, High Beta, Theta, Attention, Meditation\n",
    "\n",
    "    '''\n",
    "    def recordDataLine(self, line):\n",
    "        self.recordDataPoint(line[0], line[7], line[8], line[1], line[2], line[6], line[4], line[5], line[3])\n",
    "    \n",
    "    def getEEG(self):\n",
    "        return self.data['RawEEG']\n",
    "    \n",
    "    def getAttention(self):\n",
    "        return self.data[\"Attention\"]\n",
    "    \n",
    "    def getMeditation(self):\n",
    "        return self.data[\"Meditation\"]\n",
    "    \n",
    "    def getAlpha(self):\n",
    "        return self.data[\"Alpha\"]\n",
    "    \n",
    "    def getDelta(self):\n",
    "        return self.data[\"Delta\"]\n",
    "    \n",
    "    def getTheta(self):\n",
    "        return self.data[\"Theta\"]\n",
    "    \n",
    "    def getLowBeta(self):\n",
    "        return self.data[\"Low Beta\"]\n",
    "    \n",
    "    def getHighBeta(self):\n",
    "        return self.data[\"High Beta\"]\n",
    "    \n",
    "    def getGamma(self):\n",
    "        return self.data[\"Gamma\"]\n",
    "\n",
    "    def get(self, key):\n",
    "        return self.data[key]\n",
    "\n",
    "    '''\n",
    "    Scales the data by standard deviation of the EEG data\n",
    "    '''\n",
    "    def scale(self):\n",
    "        eeg_std_dev = np.std(self.data['RawEEG'])\n",
    "\n",
    "        self.data['Alpha'] = [x / eeg_std_dev for x in self.data['Alpha']]\n",
    "        self.data['Delta'] = [x / eeg_std_dev for x in self.data['Delta']]\n",
    "        self.data['Theta'] = [x / eeg_std_dev for x in self.data['Theta']]\n",
    "        self.data['Low Beta'] = [x / eeg_std_dev for x in self.data['Low Beta']]\n",
    "        self.data['High Beta'] = [x / eeg_std_dev for x in self.data['High Beta']]\n",
    "        self.data['Gamma'] = [x / eeg_std_dev for x in self.data['Gamma']]"
   ]
  },
  {
   "cell_type": "code",
   "execution_count": 6,
   "metadata": {},
   "outputs": [],
   "source": [
    "data = []\n",
    "dataLabels = []\n",
    "\n",
    "def transcribeFileToSample(sampleN: int, state: str):\n",
    "    sample_data = Sample()\n",
    "\n",
    "    with open(\"data/raw_data/\" + state + str(sampleN) + \".csv\") as f:\n",
    "        reader = csv.reader(f)\n",
    "\n",
    "        header = next(reader)\n",
    "        \n",
    "        for row in reader:\n",
    "            sample_data.recordDataLine(row)\n",
    "\n",
    "        for key in sample_data.data:\n",
    "            sample_data.data[key] = sample_data.data[key][begin:end]\n",
    "\n",
    "        data.append(sample_data)\n",
    "        dataLabels.append(state)\n",
    "\n",
    "for state in count_samples:\n",
    "    for i in range(count_samples[state]):\n",
    "        transcribeFileToSample(i + 1, state)"
   ]
  },
  {
   "cell_type": "code",
   "execution_count": 7,
   "metadata": {},
   "outputs": [],
   "source": [
    "dataExtracted = []\n",
    "\n",
    "for point in data:\n",
    "    extractedPoint = []\n",
    "\n",
    "    extractedPoint.append(np.mean(point.getAlpha()))\n",
    "    extractedPoint.append(np.std(point.getAlpha()))\n",
    "\n",
    "    extractedPoint.append(np.mean(point.getLowBeta()))\n",
    "    extractedPoint.append(np.std(point.getLowBeta()))\n",
    "\n",
    "    extractedPoint.append(np.mean(point.getHighBeta()))\n",
    "    extractedPoint.append(np.std(point.getHighBeta()))\n",
    "\n",
    "    extractedPoint.append(np.mean(point.getGamma()))\n",
    "    extractedPoint.append(np.std(point.getGamma()))\n",
    "\n",
    "    extractedPoint.append(np.mean(point.getTheta()))\n",
    "    extractedPoint.append(np.std(point.getTheta()))\n",
    "\n",
    "    extractedPoint.append(np.mean(point.getDelta()))\n",
    "    extractedPoint.append(np.std(point.getDelta()))\n",
    "    \n",
    "    dataExtracted.append(extractedPoint)\n"
   ]
  },
  {
   "cell_type": "code",
   "execution_count": 8,
   "metadata": {},
   "outputs": [
    {
     "data": {
      "text/plain": [
       "array(['mean Alpha', 'std Alpha', 'mean Low Beta', 'std Low Beta',\n",
       "       'std High Beta', 'mean Gamma', 'std Gamma', 'mean Theta',\n",
       "       'std Delta'], dtype=object)"
      ]
     },
     "execution_count": 8,
     "metadata": {},
     "output_type": "execute_result"
    }
   ],
   "source": [
    "X = dataExtracted.copy()\n",
    "y = dataLabels.copy()\n",
    "feature_names = []\n",
    "bands = ['Alpha', 'Low Beta', 'High Beta', 'Gamma', 'Theta', 'Delta']\n",
    "for band in bands:\n",
    "    feature_names.append(\"mean \" + band)\n",
    "    feature_names.append(\"std \" + band)\n",
    "\n",
    "fdr = SelectFdr()\n",
    "X_new = fdr.fit_transform(X, y)\n",
    "fdr.get_feature_names_out(feature_names)"
   ]
  },
  {
   "cell_type": "markdown",
   "metadata": {},
   "source": [
    "mean low beta, mean alpha, std dev alpha, mean theta, std dev delta\n",
    "<br>\n",
    "one of std dev high beta or gamma\n"
   ]
  },
  {
   "cell_type": "code",
   "execution_count": 9,
   "metadata": {},
   "outputs": [
    {
     "data": {
      "text/plain": [
       "array(['mean Alpha', 'mean Low Beta', 'std High Beta', 'std Gamma',\n",
       "       'std Delta'], dtype=object)"
      ]
     },
     "execution_count": 9,
     "metadata": {},
     "output_type": "execute_result"
    }
   ],
   "source": [
    "kbest = SelectKBest(chi2, k=5)\n",
    "X_k = kbest.fit_transform(X, y)\n",
    "kbest.get_feature_names_out(feature_names)"
   ]
  },
  {
   "cell_type": "code",
   "execution_count": 20,
   "metadata": {},
   "outputs": [],
   "source": [
    "dataExtracted_1 = []\n",
    "\n",
    "stat_funcs = [np.mean, np.std, ant.sample_entropy, ant.petrosian_fd]\n",
    "\n",
    "def safety_check(x):\n",
    "    if math.isnan(x): return 0\n",
    "    if math.isinf(x): return 99999999999\n",
    "    return x\n",
    "\n",
    "for point in data:\n",
    "    extractedPoint = []\n",
    "\n",
    "    for func in stat_funcs:\n",
    "        extractedPoint.append(safety_check(func(point.getEEG())))\n",
    "        extractedPoint.append(safety_check(func(point.getAlpha())))\n",
    "        extractedPoint.append(safety_check(func(point.getDelta())))\n",
    "        extractedPoint.append(safety_check(func(point.getTheta())))\n",
    "        extractedPoint.append(safety_check(func(point.getLowBeta())))\n",
    "        extractedPoint.append(safety_check(func(point.getHighBeta())))\n",
    "        extractedPoint.append(safety_check(func(point.getGamma())))\n",
    "    extractedPoint.append(safety_check(ant.spectral_entropy(point.getEEG(), sf=1)))\n",
    "    \n",
    "    dataExtracted_1.append(extractedPoint)"
   ]
  },
  {
   "cell_type": "code",
   "execution_count": 26,
   "metadata": {},
   "outputs": [
    {
     "data": {
      "text/plain": [
       "array(['mean Alpha', 'mean Theta', 'mean Low Beta', 'mean Gamma',\n",
       "       'std Raw EEG', 'std Alpha', 'std Delta', 'std Low Beta',\n",
       "       'std High Beta', 'std Gamma', 'sample_entropy Low Beta',\n",
       "       'sample_entropy High Beta', 'sample_entropy Gamma',\n",
       "       'petrosian_fd High Beta', 'petrosian_fd Gamma'], dtype=object)"
      ]
     },
     "execution_count": 26,
     "metadata": {},
     "output_type": "execute_result"
    }
   ],
   "source": [
    "X = dataExtracted_1.copy()\n",
    "y = dataLabels.copy()\n",
    "feature_names = []\n",
    "func_names = ['mean', 'std', 'sample_entropy', 'petrosian_fd']\n",
    "bands = ['Raw EEG', 'Alpha', 'Delta', 'Theta', 'Low Beta', 'High Beta', 'Gamma']\n",
    "for func_name in func_names:\n",
    "    for band in bands:\n",
    "        feature_names.append(func_name + ' ' + band)\n",
    "feature_names.append('Raw EEG spectral_entropy')\n",
    "\n",
    "fdr = SelectFdr()\n",
    "\n",
    "X_new = fdr.fit_transform(X, y)\n",
    "fdr.get_feature_names_out(feature_names)"
   ]
  },
  {
   "cell_type": "code",
   "execution_count": 34,
   "metadata": {},
   "outputs": [
    {
     "data": {
      "text/plain": [
       "array(['mean Alpha', 'mean Low Beta', 'std Raw EEG', 'std Delta',\n",
       "       'std High Beta', 'std Gamma', 'sample_entropy Low Beta',\n",
       "       'sample_entropy Gamma'], dtype=object)"
      ]
     },
     "execution_count": 34,
     "metadata": {},
     "output_type": "execute_result"
    }
   ],
   "source": [
    "kbest = SelectKBest(k=8)\n",
    "X_k = kbest.fit_transform(X, y)\n",
    "kbest.get_feature_names_out(feature_names)"
   ]
  }
 ],
 "metadata": {
  "interpreter": {
   "hash": "082e9a3bcad0a290d0001e938aa60b99250c6c2ef33a923c00b70f9826caf4b7"
  },
  "kernelspec": {
   "display_name": "",
   "language": "python",
   "name": "python3"
  },
  "language_info": {
   "codemirror_mode": {
    "name": "ipython",
    "version": 3
   },
   "file_extension": ".py",
   "mimetype": "text/x-python",
   "name": "python",
   "nbconvert_exporter": "python",
   "pygments_lexer": "ipython3",
   "version": "3.8.2"
  },
  "orig_nbformat": 4
 },
 "nbformat": 4,
 "nbformat_minor": 2
}
