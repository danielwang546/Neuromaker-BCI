{
 "cells": [
  {
   "cell_type": "code",
   "execution_count": 18,
   "metadata": {},
   "outputs": [],
   "source": [
    "import numpy as np\n",
    "import csv\n",
    "import matplotlib.pyplot as plt\n",
    "from scipy.stats import pearsonr"
   ]
  },
  {
   "cell_type": "code",
   "execution_count": 19,
   "metadata": {},
   "outputs": [],
   "source": [
    "begin, end = 6, 61 # (begin is inclusive, end is exclusive)\n",
    "count_samples = {\n",
    "    \"active\": 16,\n",
    "    \"meditate\": 15,\n",
    "    \"neutral\": 15\n",
    "}"
   ]
  },
  {
   "cell_type": "code",
   "execution_count": 47,
   "metadata": {},
   "outputs": [],
   "source": [
    "class Sample:\n",
    "    def __init__(self):\n",
    "        self.data = {\n",
    "            'RawEEG': [],\n",
    "            'Alpha': [],\n",
    "            'Low Beta': [],\n",
    "            'High Beta': [],\n",
    "            'Gamma': [],\n",
    "            'Theta': [],\n",
    "            'Delta': [],\n",
    "            'Meditation': [],\n",
    "            'Attention': []\n",
    "        }\n",
    "\n",
    "    def recordDataPoint(self, RawEEG, Attention, Meditation, Alpha, Delta, Theta, LowBeta, HighBeta, Gamma):\n",
    "        self.data['RawEEG'].append(float(RawEEG))\n",
    "        self.data['Attention'].append(float(Attention))\n",
    "        self.data['Meditation'].append(float(Meditation))\n",
    "        self.data['Alpha'].append(float(Alpha))\n",
    "        self.data['Delta'].append(float(Delta))\n",
    "        self.data['Theta'].append(float(Theta))\n",
    "        self.data['Low Beta'].append(float(LowBeta))\n",
    "        self.data['High Beta'].append(float(HighBeta))\n",
    "        self.data['Gamma'].append(float(Gamma))\n",
    "\n",
    "    '''\n",
    "    Record a line of data from the CSV output, which takes form RawEEG, Alpha, Delta, Gamma, Low Beta, High Beta, Theta, Attention, Meditation\n",
    "\n",
    "    '''\n",
    "    def recordDataLine(self, line):\n",
    "        self.recordDataPoint(line[0], line[7], line[8], line[1], line[2], line[6], line[4], line[5], line[3])\n",
    "    \n",
    "    def getEEG(self):\n",
    "        return self.data['RawEEG']\n",
    "    \n",
    "    def getAttention(self):\n",
    "        return self.data[\"Attention\"]\n",
    "    \n",
    "    def getMeditation(self):\n",
    "        return self.data[\"Meditation\"]\n",
    "    \n",
    "    def getAlpha(self):\n",
    "        return self.data[\"Alpha\"]\n",
    "    \n",
    "    def getDelta(self):\n",
    "        return self.data[\"Delta\"]\n",
    "    \n",
    "    def getTheta(self):\n",
    "        return self.data[\"Theta\"]\n",
    "    \n",
    "    def getLowBeta(self):\n",
    "        return self.data[\"Low Beta\"]\n",
    "    \n",
    "    def getHighBeta(self):\n",
    "        return self.data[\"High Beta\"]\n",
    "    \n",
    "    def getGamma(self):\n",
    "        return self.data[\"Gamma\"]\n",
    "\n",
    "    def get(self, key):\n",
    "        return self.data[key]\n",
    "\n",
    "    '''\n",
    "    Scales the data by standard deviation of the EEG data\n",
    "    '''\n",
    "    def scale(self):\n",
    "        eeg_std_dev = np.std(self.data['RawEEG'])\n",
    "\n",
    "        self.data['Alpha'] = [x / eeg_std_dev for x in self.data['Alpha']]\n",
    "        self.data['Delta'] = [x / eeg_std_dev for x in self.data['Delta']]\n",
    "        self.data['Theta'] = [x / eeg_std_dev for x in self.data['Theta']]\n",
    "        self.data['Low Beta'] = [x / eeg_std_dev for x in self.data['Low Beta']]\n",
    "        self.data['High Beta'] = [x / eeg_std_dev for x in self.data['High Beta']]\n",
    "        self.data['Gamma'] = [x / eeg_std_dev for x in self.data['Gamma']]"
   ]
  },
  {
   "cell_type": "code",
   "execution_count": 21,
   "metadata": {},
   "outputs": [],
   "source": [
    "data = []\n",
    "dataLabels = []\n",
    "\n",
    "def transcribeFileToSample(sampleN: int, state: str):\n",
    "    sample_data = Sample()\n",
    "\n",
    "    with open(\"raw_data/\" + state + str(sampleN) + \".csv\") as f:\n",
    "        reader = csv.reader(f)\n",
    "\n",
    "        header = next(reader)\n",
    "        \n",
    "        for row in reader:\n",
    "            sample_data.recordDataLine(row)\n",
    "\n",
    "        for key in sample_data.data:\n",
    "            sample_data.data[key] = sample_data.data[key][begin:end]\n",
    "\n",
    "        sample_data.scale()\n",
    "\n",
    "        data.append(sample_data)\n",
    "        dataLabels.append(state)\n",
    "\n",
    "for state in count_samples:\n",
    "    for i in range(count_samples[state]):\n",
    "        transcribeFileToSample(i + 1, state)"
   ]
  },
  {
   "cell_type": "code",
   "execution_count": 57,
   "metadata": {},
   "outputs": [],
   "source": [
    "def plotCorrelation(feature1: list, feature2: list):\n",
    "    plt.scatter(feature1, feature2)\n",
    "    plt.show()\n",
    "    plt.clf()\n",
    "\n",
    "    return pearsonr(feature1, feature2)"
   ]
  },
  {
   "cell_type": "code",
   "execution_count": 61,
   "metadata": {},
   "outputs": [
    {
     "data": {
      "image/png": "[encoded data removed]",
      "text/plain": [
       "<Figure size 432x288 with 1 Axes>"
      ]
     },
     "metadata": {
      "needs_background": "light"
     },
     "output_type": "display_data"
    },
    {
     "data": {
      "text/plain": [
       "(-0.4297975741043116, 0.002873073203772225)"
      ]
     },
     "execution_count": 61,
     "metadata": {},
     "output_type": "execute_result"
    }
   ],
   "source": [
    "mean = np.mean\n",
    "std = np.std\n",
    "\n",
    "str1 = \"Alpha\"\n",
    "str2 = \"Delta\"\n",
    "\n",
    "func1 = mean\n",
    "func2 = std\n",
    "\n",
    "feature_1 = [func1(point.get(str1)) for point in data]\n",
    "feature_2 = [func2(point.get(str2)) for point in data]\n",
    "\n",
    "plotCorrelation(feature_1, feature_2)"
   ]
  },
  {
   "cell_type": "code",
   "execution_count": 62,
   "metadata": {},
   "outputs": [
    {
     "name": "stdout",
     "output_type": "stream",
     "text": [
      "Correlation between mean RawEEG and mean RawEEG \t 1.0\n",
      "Correlation between mean RawEEG and mean Alpha \t 0.12828533401078845\n",
      "Correlation between mean RawEEG and mean Delta \t -0.023962832831348\n",
      "Correlation between mean RawEEG and mean Theta \t -0.006206916483800446\n",
      "Correlation between mean RawEEG and mean Low Beta \t 0.1447978209441165\n",
      "Correlation between mean RawEEG and mean High Beta \t 0.13954997957372922\n",
      "Correlation between mean RawEEG and mean Gamma \t 0.11696756607456028\n",
      "Correlation between mean Alpha and mean RawEEG \t 0.12828533401078845\n",
      "Correlation between mean Alpha and mean Alpha \t 1.0\n",
      "Correlation between mean Alpha and mean Delta \t 0.4603999995549529\n",
      "Correlation between mean Alpha and mean Theta \t 0.8749154774769515\n",
      "Correlation between mean Alpha and mean Low Beta \t 0.9362291503258308\n",
      "Correlation between mean Alpha and mean High Beta \t 0.3319581702512429\n",
      "Correlation between mean Alpha and mean Gamma \t -0.06961399834036619\n",
      "Correlation between mean Delta and mean RawEEG \t -0.023962832831348\n",
      "Correlation between mean Delta and mean Alpha \t 0.4603999995549529\n",
      "Correlation between mean Delta and mean Delta \t 0.9999999999999999\n",
      "Correlation between mean Delta and mean Theta \t 0.7518463401388933\n",
      "Correlation between mean Delta and mean Low Beta \t 0.5452350415998746\n",
      "Correlation between mean Delta and mean High Beta \t 0.5795416246950267\n",
      "Correlation between mean Delta and mean Gamma \t 0.3316164149119959\n",
      "Correlation between mean Theta and mean RawEEG \t -0.006206916483800446\n",
      "Correlation between mean Theta and mean Alpha \t 0.8749154774769515\n",
      "Correlation between mean Theta and mean Delta \t 0.7518463401388933\n",
      "Correlation between mean Theta and mean Theta \t 1.0\n",
      "Correlation between mean Theta and mean Low Beta \t 0.8551286442568798\n",
      "Correlation between mean Theta and mean High Beta \t 0.43478507519080656\n",
      "Correlation between mean Theta and mean Gamma \t 0.03339553242496065\n",
      "Correlation between mean Low Beta and mean RawEEG \t 0.1447978209441165\n",
      "Correlation between mean Low Beta and mean Alpha \t 0.9362291503258308\n",
      "Correlation between mean Low Beta and mean Delta \t 0.5452350415998746\n",
      "Correlation between mean Low Beta and mean Theta \t 0.8551286442568798\n",
      "Correlation between mean Low Beta and mean Low Beta \t 1.0\n",
      "Correlation between mean Low Beta and mean High Beta \t 0.5759233393728039\n",
      "Correlation between mean Low Beta and mean Gamma \t 0.19115464730332218\n",
      "Correlation between mean High Beta and mean RawEEG \t 0.13954997957372922\n",
      "Correlation between mean High Beta and mean Alpha \t 0.3319581702512429\n",
      "Correlation between mean High Beta and mean Delta \t 0.5795416246950267\n",
      "Correlation between mean High Beta and mean Theta \t 0.43478507519080656\n",
      "Correlation between mean High Beta and mean Low Beta \t 0.5759233393728039\n",
      "Correlation between mean High Beta and mean High Beta \t 1.0\n",
      "Correlation between mean High Beta and mean Gamma \t 0.8894981223279168\n",
      "Correlation between mean Gamma and mean RawEEG \t 0.11696756607456028\n",
      "Correlation between mean Gamma and mean Alpha \t -0.06961399834036619\n",
      "Correlation between mean Gamma and mean Delta \t 0.3316164149119959\n",
      "Correlation between mean Gamma and mean Theta \t 0.03339553242496065\n",
      "Correlation between mean Gamma and mean Low Beta \t 0.19115464730332218\n",
      "Correlation between mean Gamma and mean High Beta \t 0.8894981223279168\n",
      "Correlation between mean Gamma and mean Gamma \t 1.0\n"
     ]
    }
   ],
   "source": [
    "possible_features = ['RawEEG', 'Alpha', 'Delta', 'Theta', 'Low Beta', 'High Beta', 'Gamma']\n",
    "funcs = [mean]\n",
    "\n",
    "for f_1 in possible_features:\n",
    "    for f_2 in possible_features:\n",
    "        for func1 in funcs:\n",
    "            for func2 in funcs:\n",
    "                feature_1 = [func1(point.get(f_1)) for point in data]\n",
    "                feature_2 = [func2(point.get(f_2)) for point in data]\n",
    "\n",
    "                print(\"Correlation between mean\", f_1, \"and mean\", f_2, \"\\t\", pearsonr(feature_1, feature_2)[0])"
   ]
  }
 ],
 "metadata": {
  "interpreter": {
   "hash": "082e9a3bcad0a290d0001e938aa60b99250c6c2ef33a923c00b70f9826caf4b7"
  },
  "kernelspec": {
   "display_name": "",
   "language": "python",
   "name": "python3"
  },
  "language_info": {
   "codemirror_mode": {
    "name": "ipython",
    "version": 3
   },
   "file_extension": ".py",
   "mimetype": "text/x-python",
   "name": "python",
   "nbconvert_exporter": "python",
   "pygments_lexer": "ipython3",
   "version": "3.8.2"
  },
  "orig_nbformat": 4
 },
 "nbformat": 4,
 "nbformat_minor": 2
}
